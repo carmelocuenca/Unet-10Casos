{
 "cells": [
  {
   "cell_type": "code",
   "execution_count": 1,
   "metadata": {},
   "outputs": [],
   "source": [
    "import os\n",
    "import subprocess\n",
    "from pathlib import Path\n",
    "\n",
    "import numpy as np"
   ]
  },
  {
   "cell_type": "markdown",
   "metadata": {},
   "source": [
    "# Data preprocessing"
   ]
  },
  {
   "cell_type": "code",
   "execution_count": 2,
   "metadata": {},
   "outputs": [],
   "source": [
    "path_to_data1='/media/carmelocuenca/My Passport/10_CASOS/CrossSectionsRamificaciones/HDR'\n",
    "path_to_data2='/media/carmelocuenca/My Passport/10_CASOS/data'\n"
   ]
  },
  {
   "cell_type": "code",
   "execution_count": 3,
   "metadata": {},
   "outputs": [
    {
     "name": "stdout",
     "output_type": "stream",
     "text": [
      "Abdominal\n",
      "Arch\n",
      "Heart\n",
      "Rest\n"
     ]
    }
   ],
   "source": [
    "for directory in os.listdir(path_to_data1):\n",
    "    print(directory)\n",
    "    for file in Path(path_to_data1 + '/' + directory).glob('*.bmp'):\n",
    "        x = np.random.randint(10)\n",
    "        \n",
    "        dir = 'train'\n",
    "        if x == 8 or x == 9:\n",
    "            dir = 'test'\n",
    "        else:\n",
    "            if x == 7:\n",
    "                dir = 'validation'\n",
    "        # subprocess.run([\"cp\", str(file), path_to_data2 + '/' + dir + '/' + directory + '/'])"
   ]
  },
  {
   "cell_type": "code",
   "execution_count": 4,
   "metadata": {},
   "outputs": [
    {
     "name": "stderr",
     "output_type": "stream",
     "text": [
      "Using TensorFlow backend.\n"
     ]
    },
    {
     "name": "stdout",
     "output_type": "stream",
     "text": [
      "Found 43445 images belonging to 4 classes.\n",
      "Found 6349 images belonging to 4 classes.\n",
      "Found 12403 images belonging to 4 classes.\n"
     ]
    }
   ],
   "source": [
    "from keras.preprocessing.image import ImageDataGenerator\n",
    "from keras.optimizers import Adam\n",
    "\n",
    "batch_size = 128\n",
    "\n",
    "data_generator = ImageDataGenerator(\n",
    "        rescale=1./255,\n",
    "        horizontal_flip=False,\n",
    "        vertical_flip=False)\n",
    "\n",
    "data_gen_args = dict(target_size=(100, 100),\n",
    "    color_mode=\"grayscale\",\n",
    "    batch_size=batch_size,\n",
    "    class_mode=\"categorical\",\n",
    "    seed=42)\n",
    "\n",
    "train_generator = data_generator.flow_from_directory(\n",
    "    directory=path_to_data2 + '/' + 'train/',\n",
    "    shuffle=True,\n",
    "    **data_gen_args)\n",
    "valid_generator = data_generator.flow_from_directory(\n",
    "    directory=path_to_data2 + '/' + 'validation/',\n",
    "    shuffle=False,\n",
    "    **data_gen_args)\n",
    "test_generator = data_generator.flow_from_directory(\n",
    "    directory=path_to_data2 + '/' + 'test/',\n",
    "    shuffle=False,\n",
    "    **data_gen_args)"
   ]
  },
  {
   "cell_type": "code",
   "execution_count": 5,
   "metadata": {},
   "outputs": [
    {
     "name": "stdout",
     "output_type": "stream",
     "text": [
      "class_weight:  [1.15471508 1.19960791 4.06028037 0.48683326]\n"
     ]
    }
   ],
   "source": [
    "from sklearn.utils import compute_class_weight\n",
    "class_weight = compute_class_weight('balanced', np.unique(train_generator.classes), train_generator.classes)\n",
    "print(\"class_weight: \", class_weight)"
   ]
  },
  {
   "cell_type": "code",
   "execution_count": 6,
   "metadata": {},
   "outputs": [],
   "source": [
    "from unet import build_classifier"
   ]
  },
  {
   "cell_type": "code",
   "execution_count": 7,
   "metadata": {},
   "outputs": [],
   "source": [
    "model = build_classifier(features_root=32, layers=3, input_shape=(100, 100, 1), classes=len(os.listdir(path_to_data1)))\n",
    "model.compile(optimizer=Adam(lr=0.001), loss='categorical_crossentropy', metrics=['categorical_accuracy'])"
   ]
  },
  {
   "cell_type": "code",
   "execution_count": 8,
   "metadata": {},
   "outputs": [
    {
     "name": "stdout",
     "output_type": "stream",
     "text": [
      "WARNING:tensorflow:From /home/carmelocuenca/anaconda3/envs/ann/lib/python3.6/site-packages/tensorflow/contrib/learn/python/learn/datasets/base.py:198: retry (from tensorflow.contrib.learn.python.learn.datasets.base) is deprecated and will be removed in a future version.\n",
      "Instructions for updating:\n",
      "Use the retry module or similar alternatives.\n",
      "Epoch 1/1024\n",
      "340/340 [==============================] - 76s 225ms/step - loss: 0.4082 - categorical_accuracy: 0.9358 - val_loss: 0.2980 - val_categorical_accuracy: 0.9831\n",
      "\n",
      "Epoch 00001: val_loss improved from inf to 0.29796, saving model to /home/carmelocuenca/Documentos/unet/hdf5s/unet.hdf5\n",
      "Epoch 2/1024\n",
      "340/340 [==============================] - 73s 214ms/step - loss: 0.1661 - categorical_accuracy: 0.9954 - val_loss: 0.1420 - val_categorical_accuracy: 0.9957\n",
      "\n",
      "Epoch 00002: val_loss improved from 0.29796 to 0.14201, saving model to /home/carmelocuenca/Documentos/unet/hdf5s/unet.hdf5\n",
      "Epoch 3/1024\n",
      "340/340 [==============================] - 73s 216ms/step - loss: 0.0926 - categorical_accuracy: 0.9991 - val_loss: 0.1098 - val_categorical_accuracy: 0.9980\n",
      "\n",
      "Epoch 00003: val_loss improved from 0.14201 to 0.10982, saving model to /home/carmelocuenca/Documentos/unet/hdf5s/unet.hdf5\n",
      "Epoch 4/1024\n",
      "340/340 [==============================] - 73s 216ms/step - loss: 0.0640 - categorical_accuracy: 0.9992 - val_loss: 0.0580 - val_categorical_accuracy: 0.9973\n",
      "\n",
      "Epoch 00004: val_loss improved from 0.10982 to 0.05800, saving model to /home/carmelocuenca/Documentos/unet/hdf5s/unet.hdf5\n",
      "Epoch 5/1024\n",
      "340/340 [==============================] - 74s 218ms/step - loss: 0.0429 - categorical_accuracy: 0.9998 - val_loss: 0.0397 - val_categorical_accuracy: 0.9987\n",
      "\n",
      "Epoch 00005: val_loss improved from 0.05800 to 0.03972, saving model to /home/carmelocuenca/Documentos/unet/hdf5s/unet.hdf5\n",
      "Epoch 6/1024\n",
      "340/340 [==============================] - 74s 216ms/step - loss: 0.0314 - categorical_accuracy: 0.9998 - val_loss: 0.0278 - val_categorical_accuracy: 0.9987\n",
      "\n",
      "Epoch 00006: val_loss improved from 0.03972 to 0.02780, saving model to /home/carmelocuenca/Documentos/unet/hdf5s/unet.hdf5\n",
      "Epoch 7/1024\n",
      "340/340 [==============================] - 73s 216ms/step - loss: 0.0232 - categorical_accuracy: 1.0000 - val_loss: 0.0220 - val_categorical_accuracy: 0.9989\n",
      "\n",
      "Epoch 00007: val_loss improved from 0.02780 to 0.02205, saving model to /home/carmelocuenca/Documentos/unet/hdf5s/unet.hdf5\n",
      "Epoch 8/1024\n",
      "340/340 [==============================] - 73s 216ms/step - loss: 0.0177 - categorical_accuracy: 1.0000 - val_loss: 0.0175 - val_categorical_accuracy: 0.9986\n",
      "\n",
      "Epoch 00008: val_loss improved from 0.02205 to 0.01747, saving model to /home/carmelocuenca/Documentos/unet/hdf5s/unet.hdf5\n",
      "Epoch 9/1024\n",
      "340/340 [==============================] - 73s 216ms/step - loss: 0.0137 - categorical_accuracy: 1.0000 - val_loss: 0.0133 - val_categorical_accuracy: 0.9992\n",
      "\n",
      "Epoch 00009: val_loss improved from 0.01747 to 0.01328, saving model to /home/carmelocuenca/Documentos/unet/hdf5s/unet.hdf5\n",
      "Epoch 10/1024\n",
      "340/340 [==============================] - 73s 216ms/step - loss: 0.0109 - categorical_accuracy: 1.0000 - val_loss: 0.0105 - val_categorical_accuracy: 0.9994\n",
      "\n",
      "Epoch 00010: val_loss improved from 0.01328 to 0.01049, saving model to /home/carmelocuenca/Documentos/unet/hdf5s/unet.hdf5\n",
      "Epoch 11/1024\n",
      "340/340 [==============================] - 73s 216ms/step - loss: 0.0089 - categorical_accuracy: 1.0000 - val_loss: 0.0095 - val_categorical_accuracy: 0.9994\n",
      "\n",
      "Epoch 00011: val_loss improved from 0.01049 to 0.00950, saving model to /home/carmelocuenca/Documentos/unet/hdf5s/unet.hdf5\n",
      "Epoch 12/1024\n",
      "340/340 [==============================] - 73s 216ms/step - loss: 0.0073 - categorical_accuracy: 1.0000 - val_loss: 0.0077 - val_categorical_accuracy: 0.9992\n",
      "\n",
      "Epoch 00012: val_loss improved from 0.00950 to 0.00772, saving model to /home/carmelocuenca/Documentos/unet/hdf5s/unet.hdf5\n",
      "Epoch 13/1024\n",
      "340/340 [==============================] - 73s 216ms/step - loss: 0.0060 - categorical_accuracy: 1.0000 - val_loss: 0.0068 - val_categorical_accuracy: 0.9994\n",
      "\n",
      "Epoch 00013: val_loss improved from 0.00772 to 0.00676, saving model to /home/carmelocuenca/Documentos/unet/hdf5s/unet.hdf5\n",
      "Epoch 14/1024\n",
      "340/340 [==============================] - 74s 216ms/step - loss: 0.0050 - categorical_accuracy: 1.0000 - val_loss: 0.0054 - val_categorical_accuracy: 0.9995\n",
      "\n",
      "Epoch 00014: val_loss improved from 0.00676 to 0.00537, saving model to /home/carmelocuenca/Documentos/unet/hdf5s/unet.hdf5\n",
      "Epoch 15/1024\n",
      "340/340 [==============================] - 73s 216ms/step - loss: 0.0041 - categorical_accuracy: 1.0000 - val_loss: 0.0050 - val_categorical_accuracy: 0.9995\n",
      "\n",
      "Epoch 00015: val_loss improved from 0.00537 to 0.00495, saving model to /home/carmelocuenca/Documentos/unet/hdf5s/unet.hdf5\n",
      "Epoch 16/1024\n",
      "340/340 [==============================] - 73s 216ms/step - loss: 0.0035 - categorical_accuracy: 1.0000 - val_loss: 0.0043 - val_categorical_accuracy: 0.9994\n",
      "\n",
      "Epoch 00016: val_loss improved from 0.00495 to 0.00434, saving model to /home/carmelocuenca/Documentos/unet/hdf5s/unet.hdf5\n",
      "Epoch 17/1024\n",
      "340/340 [==============================] - 73s 216ms/step - loss: 0.0488 - categorical_accuracy: 0.9839 - val_loss: 6.7345 - val_categorical_accuracy: 0.5341\n",
      "\n",
      "Epoch 00017: val_loss did not improve\n",
      "Epoch 18/1024\n",
      "340/340 [==============================] - 73s 216ms/step - loss: 0.0457 - categorical_accuracy: 0.9877 - val_loss: 0.0485 - val_categorical_accuracy: 0.9863\n",
      "\n",
      "Epoch 00018: val_loss did not improve\n",
      "Epoch 19/1024\n",
      "340/340 [==============================] - 73s 216ms/step - loss: 0.0151 - categorical_accuracy: 0.9968 - val_loss: 0.0200 - val_categorical_accuracy: 0.9962\n",
      "\n",
      "Epoch 00019: val_loss did not improve\n",
      "Epoch 20/1024\n",
      "340/340 [==============================] - 73s 216ms/step - loss: 0.0087 - categorical_accuracy: 0.9985 - val_loss: 0.0137 - val_categorical_accuracy: 0.9975\n",
      "\n",
      "Epoch 00020: val_loss did not improve\n",
      "Epoch 21/1024\n",
      "340/340 [==============================] - 73s 216ms/step - loss: 0.0043 - categorical_accuracy: 0.9997 - val_loss: 0.0073 - val_categorical_accuracy: 0.9981\n",
      "\n",
      "Epoch 00021: val_loss did not improve\n",
      "Epoch 22/1024\n",
      "340/340 [==============================] - 73s 216ms/step - loss: 0.0039 - categorical_accuracy: 0.9996 - val_loss: 0.0055 - val_categorical_accuracy: 0.9987\n",
      "\n",
      "Epoch 00022: val_loss did not improve\n",
      "Epoch 23/1024\n",
      "340/340 [==============================] - 73s 215ms/step - loss: 0.0049 - categorical_accuracy: 0.9993 - val_loss: 0.0155 - val_categorical_accuracy: 0.9967\n",
      "\n",
      "Epoch 00023: val_loss did not improve\n",
      "Epoch 24/1024\n",
      "340/340 [==============================] - 73s 216ms/step - loss: 0.0039 - categorical_accuracy: 0.9995 - val_loss: 0.0103 - val_categorical_accuracy: 0.9981\n",
      "\n",
      "Epoch 00024: val_loss did not improve\n",
      "Epoch 00024: early stopping\n"
     ]
    }
   ],
   "source": [
    "# Fitting/Training the model\n",
    "\n",
    "from keras.callbacks import TensorBoard, ModelCheckpoint, EarlyStopping\n",
    "from datetime import datetime\n",
    "\n",
    "log_dir = '/home/carmelocuenca/Documentos/unet/logs/' +  datetime.now().strftime(\"%Y%m%d-%H%M%S\") + \"/\"\n",
    "callbacks=[\n",
    "    TensorBoard(log_dir=log_dir, histogram_freq=0, write_graph=False, write_images=False),\n",
    "    EarlyStopping(patience=8, verbose=1),\n",
    "    ModelCheckpoint('/home/carmelocuenca/Documentos/unet/hdf5s/' + 'unet' + '.hdf5', \n",
    "                    verbose=1, save_best_only=True),]\n",
    "\n",
    "h = model.fit_generator(train_generator,\n",
    "                    steps_per_epoch=(len(train_generator.classes)+batch_size-1)//batch_size,\n",
    "                    validation_data=valid_generator,\n",
    "                    validation_steps=(len(valid_generator.classes)+batch_size-1)//batch_size,\n",
    "                    class_weight=class_weight,\n",
    "                    callbacks=callbacks,\n",
    "                    verbose=1,\n",
    "                    epochs=1024)"
   ]
  },
  {
   "cell_type": "markdown",
   "metadata": {},
   "source": [
    "# Test data validation"
   ]
  },
  {
   "cell_type": "code",
   "execution_count": 9,
   "metadata": {},
   "outputs": [
    {
     "name": "stdout",
     "output_type": "stream",
     "text": [
      "97/97 [==============================] - 7s 76ms/step\n"
     ]
    }
   ],
   "source": [
    "# Predict the output\n",
    "test_generator.reset()\n",
    "y_pred = model.predict_generator(test_generator, verbose=1)"
   ]
  },
  {
   "cell_type": "code",
   "execution_count": 10,
   "metadata": {},
   "outputs": [
    {
     "name": "stdout",
     "output_type": "stream",
     "text": [
      "[[1.         0.         0.         0.        ]\n",
      " [0.         0.99728787 0.         0.0010958 ]\n",
      " [0.         0.         1.         0.        ]\n",
      " [0.00340651 0.00154979 0.01262626 0.9963995 ]]\n"
     ]
    }
   ],
   "source": [
    "from sklearn.metrics import confusion_matrix\n",
    "C = confusion_matrix(test_generator.classes, np.argmax(y_pred, axis=1), labels=range(0, len(os.listdir(path_to_data1))))\n",
    "print(C/C.astype(np.float).sum(axis=1))"
   ]
  },
  {
   "cell_type": "markdown",
   "metadata": {},
   "source": [
    "# SOM Zone"
   ]
  },
  {
   "cell_type": "code",
   "execution_count": 12,
   "metadata": {},
   "outputs": [
    {
     "name": "stdout",
     "output_type": "stream",
     "text": [
      "_________________________________________________________________\n",
      "Layer (type)                 Output Shape              Param #   \n",
      "=================================================================\n",
      "input_1 (InputLayer)         (None, 100, 100, 1)       0         \n",
      "_________________________________________________________________\n",
      "conv2d_1 (Conv2D)            (None, 98, 98, 32)        320       \n",
      "_________________________________________________________________\n",
      "batch_normalization_1 (Batch (None, 98, 98, 32)        128       \n",
      "_________________________________________________________________\n",
      "activation_1 (Activation)    (None, 98, 98, 32)        0         \n",
      "_________________________________________________________________\n",
      "conv2d_2 (Conv2D)            (None, 96, 96, 32)        9248      \n",
      "_________________________________________________________________\n",
      "batch_normalization_2 (Batch (None, 96, 96, 32)        128       \n",
      "_________________________________________________________________\n",
      "activation_2 (Activation)    (None, 96, 96, 32)        0         \n",
      "_________________________________________________________________\n",
      "max_pooling2d_1 (MaxPooling2 (None, 48, 48, 32)        0         \n",
      "_________________________________________________________________\n",
      "conv2d_3 (Conv2D)            (None, 46, 46, 64)        18496     \n",
      "_________________________________________________________________\n",
      "batch_normalization_3 (Batch (None, 46, 46, 64)        256       \n",
      "_________________________________________________________________\n",
      "activation_3 (Activation)    (None, 46, 46, 64)        0         \n",
      "_________________________________________________________________\n",
      "conv2d_4 (Conv2D)            (None, 44, 44, 64)        36928     \n",
      "_________________________________________________________________\n",
      "batch_normalization_4 (Batch (None, 44, 44, 64)        256       \n",
      "_________________________________________________________________\n",
      "activation_4 (Activation)    (None, 44, 44, 64)        0         \n",
      "_________________________________________________________________\n",
      "max_pooling2d_2 (MaxPooling2 (None, 22, 22, 64)        0         \n",
      "_________________________________________________________________\n",
      "conv2d_5 (Conv2D)            (None, 20, 20, 128)       73856     \n",
      "_________________________________________________________________\n",
      "batch_normalization_5 (Batch (None, 20, 20, 128)       512       \n",
      "_________________________________________________________________\n",
      "activation_5 (Activation)    (None, 20, 20, 128)       0         \n",
      "_________________________________________________________________\n",
      "conv2d_6 (Conv2D)            (None, 18, 18, 128)       147584    \n",
      "_________________________________________________________________\n",
      "batch_normalization_6 (Batch (None, 18, 18, 128)       512       \n",
      "_________________________________________________________________\n",
      "activation_6 (Activation)    (None, 18, 18, 128)       0         \n",
      "_________________________________________________________________\n",
      "flatten_1 (Flatten)          (None, 41472)             0         \n",
      "_________________________________________________________________\n",
      "dense_1 (Dense)              (None, 1024)              42468352  \n",
      "_________________________________________________________________\n",
      "batch_normalization_7 (Batch (None, 1024)              4096      \n",
      "_________________________________________________________________\n",
      "activation_7 (Activation)    (None, 1024)              0         \n",
      "_________________________________________________________________\n",
      "dense_2 (Dense)              (None, 4)                 4100      \n",
      "_________________________________________________________________\n",
      "batch_normalization_8 (Batch (None, 4)                 16        \n",
      "_________________________________________________________________\n",
      "activation_8 (Activation)    (None, 4)                 0         \n",
      "=================================================================\n",
      "Total params: 42,764,788\n",
      "Trainable params: 42,761,836\n",
      "Non-trainable params: 2,952\n",
      "_________________________________________________________________\n"
     ]
    }
   ],
   "source": [
    "model.summary()"
   ]
  },
  {
   "cell_type": "code",
   "execution_count": 13,
   "metadata": {},
   "outputs": [
    {
     "name": "stdout",
     "output_type": "stream",
     "text": [
      "97/97 [==============================] - 7s 72ms/step\n"
     ]
    }
   ],
   "source": [
    "from keras.models import Model\n",
    "test_generator.reset()\n",
    "layer_name = 'activation_7'\n",
    "\n",
    "intermediate_layer_model = Model(inputs=model.input,\n",
    "                                 outputs=model.get_layer(layer_name).output)\n",
    "intermediate_output = intermediate_layer_model.predict_generator(test_generator, verbose=1)"
   ]
  },
  {
   "cell_type": "code",
   "execution_count": 15,
   "metadata": {},
   "outputs": [],
   "source": [
    "from minisom import MiniSom\n",
    "\n",
    "import numpy as np\n",
    "import matplotlib.pyplot as plt\n",
    "from matplotlib.gridspec import GridSpec\n",
    "%matplotlib inline"
   ]
  },
  {
   "cell_type": "code",
   "execution_count": 16,
   "metadata": {},
   "outputs": [
    {
     "name": "stdout",
     "output_type": "stream",
     "text": [
      "Training...\n",
      "\n",
      "...ready!\n"
     ]
    }
   ],
   "source": [
    "# data normalization\n",
    "intermediate_output = np.apply_along_axis(lambda x: x/np.linalg.norm(x), 1, intermediate_output)\n",
    "\n",
    "# Initialization and training\n",
    "som = MiniSom(7, 7, intermediate_output.shape[1], sigma=3, learning_rate=0.5, \n",
    "              neighborhood_function='triangle', random_seed=10)\n",
    "#som.random_weights_init(data)\n",
    "som.pca_weights_init(intermediate_output)\n",
    "print(\"Training...\")\n",
    "som.train_random(intermediate_output, 4*1024)  # random training\n",
    "print(\"\\n...ready!\")"
   ]
  },
  {
   "cell_type": "code",
   "execution_count": 17,
   "metadata": {},
   "outputs": [
    {
     "data": {
      "image/png": "[encoded data removed]",
      "text/plain": [
       "<Figure size 504x504 with 1 Axes>"
      ]
     },
     "metadata": {},
     "output_type": "display_data"
    }
   ],
   "source": [
    "plt.figure(figsize=(7, 7))\n",
    "# Plotting the response for each pattern in the iris dataset\n",
    "plt.pcolor(som.distance_map().T, cmap='bone_r')  # plotting the distance map as background\n",
    "#plt.colorbar()\n",
    "\n",
    "target = list(test_generator.class_indices.keys())\n",
    "t = test_generator.classes\n",
    "\n",
    "# use different colors and markers for each label\n",
    "markers = ['o', 's', 'D', '.']\n",
    "colors = ['C0', 'C1', 'C2', 'C3']\n",
    "for cnt, xx in enumerate(intermediate_output):\n",
    "    w = som.winner(xx)  # getting the winner\n",
    "    # palce a marker on the winning position for the sample xx\n",
    "    plt.plot(w[0]+.5, w[1]+.5, markers[t[cnt]], markerfacecolor='None',\n",
    "             markeredgecolor=colors[t[cnt]], markersize=12, markeredgewidth=2)\n",
    "plt.axis([0, 7, 0, 7])\n",
    "plt.savefig('resulting_images/som.png')\n",
    "plt.show()"
   ]
  },
  {
   "cell_type": "code",
   "execution_count": 42,
   "metadata": {},
   "outputs": [
    {
     "data": {
      "image/png": "[encoded data removed]",
      "text/plain": [
       "<Figure size 504x504 with 48 Axes>"
      ]
     },
     "metadata": {},
     "output_type": "display_data"
    }
   ],
   "source": [
    "labels = np.array(list(test_generator.class_indices.keys()))[test_generator.classes]  # labels\n",
    "labels_map = som.labels_map(intermediate_output, labels)\n",
    "label_names = np.unique(labels)\n",
    "\n",
    "plt.figure(figsize=(7, 7))\n",
    "the_grid = GridSpec(7, 7)\n",
    "for position in labels_map.keys():\n",
    "    label_fracs = [labels_map[position][l] for l in label_names]\n",
    "    plt.subplot(the_grid[6-position[1], position[0]], aspect=1)\n",
    "    patches, texts = plt.pie(label_fracs)\n",
    "plt.legend(patches, label_names, bbox_to_anchor=(0, -1), ncol=3)\n",
    "plt.savefig('resulting_images/som_iris_pies.png')\n",
    "plt.show()\n"
   ]
  },
  {
   "cell_type": "code",
   "execution_count": null,
   "metadata": {},
   "outputs": [],
   "source": []
  }
 ],
 "metadata": {
  "kernelspec": {
   "display_name": "Python [conda env:ann]",
   "language": "python",
   "name": "conda-env-ann-py"
  },
  "language_info": {
   "codemirror_mode": {
    "name": "ipython",
    "version": 3
   },
   "file_extension": ".py",
   "mimetype": "text/x-python",
   "name": "python",
   "nbconvert_exporter": "python",
   "pygments_lexer": "ipython3",
   "version": "3.6.6"
  }
 },
 "nbformat": 4,
 "nbformat_minor": 2
}
